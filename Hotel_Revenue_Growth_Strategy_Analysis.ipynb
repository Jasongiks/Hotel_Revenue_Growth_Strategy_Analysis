{
  "nbformat": 4,
  "nbformat_minor": 0,
  "metadata": {
    "colab": {
      "name": "Data_Visualisation_project",
      "provenance": [],
      "collapsed_sections": [],
      "toc_visible": true,
      "include_colab_link": true
    },
    "kernelspec": {
      "name": "python3",
      "display_name": "Python 3"
    }
  },
  "cells": [
    {
      "cell_type": "markdown",
      "metadata": {
        "id": "view-in-github",
        "colab_type": "text"
      },
      "source": [
        "<a href=\"https://colab.research.google.com/github/Jasongiks/Hotel_Revenue_Growth_Strategy_Analysis/blob/main/Hotel_Revenue_Growth_Strategy_Analysis.ipynb\" target=\"_parent\"><img src=\"https://colab.research.google.com/assets/colab-badge.svg\" alt=\"Open In Colab\"/></a>"
      ]
    },
    {
      "cell_type": "markdown",
      "metadata": {
        "id": "Tq0OpR0hlHhF"
      },
      "source": [
        "# Importing Libraries, Loading Data and Data Exploration"
      ]
    },
    {
      "cell_type": "code",
      "metadata": {
        "id": "w7iIF_DeQ1IL"
      },
      "source": [
        "#Importing the libraries we will use\n",
        "import pandas as pd\n",
        "import numpy as np\n",
        "import matplotlib.pyplot as plt\n",
        "import seaborn as sns\n",
        "sns.set()\n",
        "%matplotlib inline"
      ],
      "execution_count": null,
      "outputs": []
    },
    {
      "cell_type": "code",
      "metadata": {
        "id": "CG0Zzs9jdeY4",
        "colab": {
          "base_uri": "https://localhost:8080/",
          "height": 309
        },
        "outputId": "851fe883-b3b4-4e7a-e96b-83059b71ff0d"
      },
      "source": [
        "#Loading our data set\n",
        "hotel_df = pd.read_csv('hotel_bookings.csv')\n",
        "#displaying the first five rows of our data set\n",
        "hotel_df.head()"
      ],
      "execution_count": null,
      "outputs": [
        {
          "output_type": "execute_result",
          "data": {
            "text/html": [
              "<div>\n",
              "<style scoped>\n",
              "    .dataframe tbody tr th:only-of-type {\n",
              "        vertical-align: middle;\n",
              "    }\n",
              "\n",
              "    .dataframe tbody tr th {\n",
              "        vertical-align: top;\n",
              "    }\n",
              "\n",
              "    .dataframe thead th {\n",
              "        text-align: right;\n",
              "    }\n",
              "</style>\n",
              "<table border=\"1\" class=\"dataframe\">\n",
              "  <thead>\n",
              "    <tr style=\"text-align: right;\">\n",
              "      <th></th>\n",
              "      <th>hotel</th>\n",
              "      <th>is_canceled</th>\n",
              "      <th>lead_time</th>\n",
              "      <th>arrival_date_year</th>\n",
              "      <th>arrival_date_month</th>\n",
              "      <th>arrival_date_week_number</th>\n",
              "      <th>arrival_date_day_of_month</th>\n",
              "      <th>stays_in_weekend_nights</th>\n",
              "      <th>stays_in_week_nights</th>\n",
              "      <th>adults</th>\n",
              "      <th>children</th>\n",
              "      <th>babies</th>\n",
              "      <th>meal</th>\n",
              "      <th>country</th>\n",
              "      <th>market_segment</th>\n",
              "      <th>distribution_channel</th>\n",
              "      <th>is_repeated_guest</th>\n",
              "      <th>previous_cancellations</th>\n",
              "      <th>previous_bookings_not_canceled</th>\n",
              "      <th>reserved_room_type</th>\n",
              "      <th>assigned_room_type</th>\n",
              "      <th>booking_changes</th>\n",
              "      <th>deposit_type</th>\n",
              "      <th>agent</th>\n",
              "      <th>company</th>\n",
              "      <th>days_in_waiting_list</th>\n",
              "      <th>customer_type</th>\n",
              "      <th>adr</th>\n",
              "      <th>required_car_parking_spaces</th>\n",
              "      <th>total_of_special_requests</th>\n",
              "      <th>reservation_status</th>\n",
              "      <th>reservation_status_date</th>\n",
              "    </tr>\n",
              "  </thead>\n",
              "  <tbody>\n",
              "    <tr>\n",
              "      <th>0</th>\n",
              "      <td>Resort Hotel</td>\n",
              "      <td>0</td>\n",
              "      <td>342</td>\n",
              "      <td>2015</td>\n",
              "      <td>July</td>\n",
              "      <td>27</td>\n",
              "      <td>1</td>\n",
              "      <td>0</td>\n",
              "      <td>0</td>\n",
              "      <td>2</td>\n",
              "      <td>0.0</td>\n",
              "      <td>0</td>\n",
              "      <td>BB</td>\n",
              "      <td>PRT</td>\n",
              "      <td>Direct</td>\n",
              "      <td>Direct</td>\n",
              "      <td>0</td>\n",
              "      <td>0</td>\n",
              "      <td>0</td>\n",
              "      <td>C</td>\n",
              "      <td>C</td>\n",
              "      <td>3</td>\n",
              "      <td>No Deposit</td>\n",
              "      <td>NaN</td>\n",
              "      <td>NaN</td>\n",
              "      <td>0</td>\n",
              "      <td>Transient</td>\n",
              "      <td>0.0</td>\n",
              "      <td>0</td>\n",
              "      <td>0</td>\n",
              "      <td>Check-Out</td>\n",
              "      <td>2015-07-01</td>\n",
              "    </tr>\n",
              "    <tr>\n",
              "      <th>1</th>\n",
              "      <td>Resort Hotel</td>\n",
              "      <td>0</td>\n",
              "      <td>737</td>\n",
              "      <td>2015</td>\n",
              "      <td>July</td>\n",
              "      <td>27</td>\n",
              "      <td>1</td>\n",
              "      <td>0</td>\n",
              "      <td>0</td>\n",
              "      <td>2</td>\n",
              "      <td>0.0</td>\n",
              "      <td>0</td>\n",
              "      <td>BB</td>\n",
              "      <td>PRT</td>\n",
              "      <td>Direct</td>\n",
              "      <td>Direct</td>\n",
              "      <td>0</td>\n",
              "      <td>0</td>\n",
              "      <td>0</td>\n",
              "      <td>C</td>\n",
              "      <td>C</td>\n",
              "      <td>4</td>\n",
              "      <td>No Deposit</td>\n",
              "      <td>NaN</td>\n",
              "      <td>NaN</td>\n",
              "      <td>0</td>\n",
              "      <td>Transient</td>\n",
              "      <td>0.0</td>\n",
              "      <td>0</td>\n",
              "      <td>0</td>\n",
              "      <td>Check-Out</td>\n",
              "      <td>2015-07-01</td>\n",
              "    </tr>\n",
              "    <tr>\n",
              "      <th>2</th>\n",
              "      <td>Resort Hotel</td>\n",
              "      <td>0</td>\n",
              "      <td>7</td>\n",
              "      <td>2015</td>\n",
              "      <td>July</td>\n",
              "      <td>27</td>\n",
              "      <td>1</td>\n",
              "      <td>0</td>\n",
              "      <td>1</td>\n",
              "      <td>1</td>\n",
              "      <td>0.0</td>\n",
              "      <td>0</td>\n",
              "      <td>BB</td>\n",
              "      <td>GBR</td>\n",
              "      <td>Direct</td>\n",
              "      <td>Direct</td>\n",
              "      <td>0</td>\n",
              "      <td>0</td>\n",
              "      <td>0</td>\n",
              "      <td>A</td>\n",
              "      <td>C</td>\n",
              "      <td>0</td>\n",
              "      <td>No Deposit</td>\n",
              "      <td>NaN</td>\n",
              "      <td>NaN</td>\n",
              "      <td>0</td>\n",
              "      <td>Transient</td>\n",
              "      <td>75.0</td>\n",
              "      <td>0</td>\n",
              "      <td>0</td>\n",
              "      <td>Check-Out</td>\n",
              "      <td>2015-07-02</td>\n",
              "    </tr>\n",
              "    <tr>\n",
              "      <th>3</th>\n",
              "      <td>Resort Hotel</td>\n",
              "      <td>0</td>\n",
              "      <td>13</td>\n",
              "      <td>2015</td>\n",
              "      <td>July</td>\n",
              "      <td>27</td>\n",
              "      <td>1</td>\n",
              "      <td>0</td>\n",
              "      <td>1</td>\n",
              "      <td>1</td>\n",
              "      <td>0.0</td>\n",
              "      <td>0</td>\n",
              "      <td>BB</td>\n",
              "      <td>GBR</td>\n",
              "      <td>Corporate</td>\n",
              "      <td>Corporate</td>\n",
              "      <td>0</td>\n",
              "      <td>0</td>\n",
              "      <td>0</td>\n",
              "      <td>A</td>\n",
              "      <td>A</td>\n",
              "      <td>0</td>\n",
              "      <td>No Deposit</td>\n",
              "      <td>304.0</td>\n",
              "      <td>NaN</td>\n",
              "      <td>0</td>\n",
              "      <td>Transient</td>\n",
              "      <td>75.0</td>\n",
              "      <td>0</td>\n",
              "      <td>0</td>\n",
              "      <td>Check-Out</td>\n",
              "      <td>2015-07-02</td>\n",
              "    </tr>\n",
              "    <tr>\n",
              "      <th>4</th>\n",
              "      <td>Resort Hotel</td>\n",
              "      <td>0</td>\n",
              "      <td>14</td>\n",
              "      <td>2015</td>\n",
              "      <td>July</td>\n",
              "      <td>27</td>\n",
              "      <td>1</td>\n",
              "      <td>0</td>\n",
              "      <td>2</td>\n",
              "      <td>2</td>\n",
              "      <td>0.0</td>\n",
              "      <td>0</td>\n",
              "      <td>BB</td>\n",
              "      <td>GBR</td>\n",
              "      <td>Online TA</td>\n",
              "      <td>TA/TO</td>\n",
              "      <td>0</td>\n",
              "      <td>0</td>\n",
              "      <td>0</td>\n",
              "      <td>A</td>\n",
              "      <td>A</td>\n",
              "      <td>0</td>\n",
              "      <td>No Deposit</td>\n",
              "      <td>240.0</td>\n",
              "      <td>NaN</td>\n",
              "      <td>0</td>\n",
              "      <td>Transient</td>\n",
              "      <td>98.0</td>\n",
              "      <td>0</td>\n",
              "      <td>1</td>\n",
              "      <td>Check-Out</td>\n",
              "      <td>2015-07-03</td>\n",
              "    </tr>\n",
              "  </tbody>\n",
              "</table>\n",
              "</div>"
            ],
            "text/plain": [
              "          hotel  is_canceled  ...  reservation_status  reservation_status_date\n",
              "0  Resort Hotel            0  ...           Check-Out               2015-07-01\n",
              "1  Resort Hotel            0  ...           Check-Out               2015-07-01\n",
              "2  Resort Hotel            0  ...           Check-Out               2015-07-02\n",
              "3  Resort Hotel            0  ...           Check-Out               2015-07-02\n",
              "4  Resort Hotel            0  ...           Check-Out               2015-07-03\n",
              "\n",
              "[5 rows x 32 columns]"
            ]
          },
          "metadata": {
            "tags": []
          },
          "execution_count": 11
        }
      ]
    },
    {
      "cell_type": "code",
      "metadata": {
        "id": "x9htatwMd87C",
        "colab": {
          "base_uri": "https://localhost:8080/",
          "height": 34
        },
        "outputId": "3c39a749-c8bf-429d-afeb-4ea6cf24518f"
      },
      "source": [
        "#showing the number of rows and columns in our data set\n",
        "hotel_df.shape"
      ],
      "execution_count": null,
      "outputs": [
        {
          "output_type": "execute_result",
          "data": {
            "text/plain": [
              "(119390, 32)"
            ]
          },
          "metadata": {
            "tags": []
          },
          "execution_count": 12
        }
      ]
    },
    {
      "cell_type": "code",
      "metadata": {
        "id": "EyTu9OU1h6H3",
        "colab": {
          "base_uri": "https://localhost:8080/",
          "height": 578
        },
        "outputId": "626306be-3d26-4df9-db51-3d3c0c5cab80"
      },
      "source": [
        "#From above, there are 119390 rows and 32 columns in our data set.\n",
        "#checking for the datatypes of our columns\n",
        "hotel_df.dtypes"
      ],
      "execution_count": null,
      "outputs": [
        {
          "output_type": "execute_result",
          "data": {
            "text/plain": [
              "hotel                              object\n",
              "is_canceled                         int64\n",
              "lead_time                           int64\n",
              "arrival_date_year                   int64\n",
              "arrival_date_month                 object\n",
              "arrival_date_week_number            int64\n",
              "arrival_date_day_of_month           int64\n",
              "stays_in_weekend_nights             int64\n",
              "stays_in_week_nights                int64\n",
              "adults                              int64\n",
              "children                          float64\n",
              "babies                              int64\n",
              "meal                               object\n",
              "country                            object\n",
              "market_segment                     object\n",
              "distribution_channel               object\n",
              "is_repeated_guest                   int64\n",
              "previous_cancellations              int64\n",
              "previous_bookings_not_canceled      int64\n",
              "reserved_room_type                 object\n",
              "assigned_room_type                 object\n",
              "booking_changes                     int64\n",
              "deposit_type                       object\n",
              "agent                             float64\n",
              "company                           float64\n",
              "days_in_waiting_list                int64\n",
              "customer_type                      object\n",
              "adr                               float64\n",
              "required_car_parking_spaces         int64\n",
              "total_of_special_requests           int64\n",
              "reservation_status                 object\n",
              "reservation_status_date            object\n",
              "dtype: object"
            ]
          },
          "metadata": {
            "tags": []
          },
          "execution_count": 13
        }
      ]
    },
    {
      "cell_type": "markdown",
      "metadata": {
        "id": "eXQnB0bAfEVR"
      },
      "source": [
        "# Checking for duplicates missing values and cleaning our dataset"
      ]
    },
    {
      "cell_type": "code",
      "metadata": {
        "id": "i5Yy61gvA6Mj",
        "colab": {
          "base_uri": "https://localhost:8080/",
          "height": 34
        },
        "outputId": "ca526667-7ea0-48f1-fdd4-3bf115ba2e68"
      },
      "source": [
        "#checking if there are any duplicates in our data set\n",
        "hotel_df.duplicated().values.any()"
      ],
      "execution_count": null,
      "outputs": [
        {
          "output_type": "execute_result",
          "data": {
            "text/plain": [
              "True"
            ]
          },
          "metadata": {
            "tags": []
          },
          "execution_count": 14
        }
      ]
    },
    {
      "cell_type": "code",
      "metadata": {
        "id": "Lj7a1LxI5He2"
      },
      "source": [
        "#From above, we can see that our data set contains some duplicated values.\n",
        "#Removing any duplicated data\n",
        "hotel_df = hotel_df.drop_duplicates()"
      ],
      "execution_count": null,
      "outputs": []
    },
    {
      "cell_type": "code",
      "metadata": {
        "id": "rnrOxiIP5b5m",
        "colab": {
          "base_uri": "https://localhost:8080/",
          "height": 34
        },
        "outputId": "97d83368-f310-40ba-acfb-70ab9a6e7ed8"
      },
      "source": [
        "#Checking the shape of our data after removal of duplicates\n",
        "hotel_df.shape"
      ],
      "execution_count": null,
      "outputs": [
        {
          "output_type": "execute_result",
          "data": {
            "text/plain": [
              "(87396, 32)"
            ]
          },
          "metadata": {
            "tags": []
          },
          "execution_count": 16
        }
      ]
    },
    {
      "cell_type": "code",
      "metadata": {
        "id": "LmIpVl-DfMx_",
        "colab": {
          "base_uri": "https://localhost:8080/",
          "height": 578
        },
        "outputId": "4d2ad884-01c3-4cf9-eeb6-74d510ff61c4"
      },
      "source": [
        "#checking for the number of missing values in each column\n",
        "hotel_df.isnull().sum()"
      ],
      "execution_count": null,
      "outputs": [
        {
          "output_type": "execute_result",
          "data": {
            "text/plain": [
              "hotel                                 0\n",
              "is_canceled                           0\n",
              "lead_time                             0\n",
              "arrival_date_year                     0\n",
              "arrival_date_month                    0\n",
              "arrival_date_week_number              0\n",
              "arrival_date_day_of_month             0\n",
              "stays_in_weekend_nights               0\n",
              "stays_in_week_nights                  0\n",
              "adults                                0\n",
              "children                              4\n",
              "babies                                0\n",
              "meal                                  0\n",
              "country                             452\n",
              "market_segment                        0\n",
              "distribution_channel                  0\n",
              "is_repeated_guest                     0\n",
              "previous_cancellations                0\n",
              "previous_bookings_not_canceled        0\n",
              "reserved_room_type                    0\n",
              "assigned_room_type                    0\n",
              "booking_changes                       0\n",
              "deposit_type                          0\n",
              "agent                             12193\n",
              "company                           82137\n",
              "days_in_waiting_list                  0\n",
              "customer_type                         0\n",
              "adr                                   0\n",
              "required_car_parking_spaces           0\n",
              "total_of_special_requests             0\n",
              "reservation_status                    0\n",
              "reservation_status_date               0\n",
              "dtype: int64"
            ]
          },
          "metadata": {
            "tags": []
          },
          "execution_count": 17
        }
      ]
    },
    {
      "cell_type": "code",
      "metadata": {
        "id": "IO1PBliZfpzl"
      },
      "source": [
        "#there are 4 missing values in the children column.\n",
        "#we can replace this with the mean of our column without affecting the \n",
        "#integrity of our data set\n",
        "hotel_df.fillna(hotel_df['children'].mean(), inplace = True)\n",
        "\n"
      ],
      "execution_count": null,
      "outputs": []
    },
    {
      "cell_type": "code",
      "metadata": {
        "id": "YJ7BwZ65glgG"
      },
      "source": [
        "#there are 452 missing values in the country column.\n",
        "#we can replace this with the value in the previos row without\n",
        "#affecting the integrity of our dataset\n",
        "hotel_df['country'].fillna(method = 'pad',inplace = True)"
      ],
      "execution_count": null,
      "outputs": []
    },
    {
      "cell_type": "code",
      "metadata": {
        "id": "JypSdNgJgyoB",
        "colab": {
          "base_uri": "https://localhost:8080/",
          "height": 117
        },
        "outputId": "35d0ddab-f06d-4535-9ab8-1a9e6b8cb911"
      },
      "source": [
        "#Due to the large number of missiong values in the company column in relation\n",
        "#to the total dataset, we are going to drop this column\n",
        "\n",
        "hotel_df.drop(columns = [\"company\"], axis = 1, inplace = True)\n",
        "hotel_df.head(1)"
      ],
      "execution_count": null,
      "outputs": [
        {
          "output_type": "execute_result",
          "data": {
            "text/html": [
              "<div>\n",
              "<style scoped>\n",
              "    .dataframe tbody tr th:only-of-type {\n",
              "        vertical-align: middle;\n",
              "    }\n",
              "\n",
              "    .dataframe tbody tr th {\n",
              "        vertical-align: top;\n",
              "    }\n",
              "\n",
              "    .dataframe thead th {\n",
              "        text-align: right;\n",
              "    }\n",
              "</style>\n",
              "<table border=\"1\" class=\"dataframe\">\n",
              "  <thead>\n",
              "    <tr style=\"text-align: right;\">\n",
              "      <th></th>\n",
              "      <th>hotel</th>\n",
              "      <th>is_canceled</th>\n",
              "      <th>lead_time</th>\n",
              "      <th>arrival_date_year</th>\n",
              "      <th>arrival_date_month</th>\n",
              "      <th>arrival_date_week_number</th>\n",
              "      <th>arrival_date_day_of_month</th>\n",
              "      <th>stays_in_weekend_nights</th>\n",
              "      <th>stays_in_week_nights</th>\n",
              "      <th>adults</th>\n",
              "      <th>children</th>\n",
              "      <th>babies</th>\n",
              "      <th>meal</th>\n",
              "      <th>country</th>\n",
              "      <th>market_segment</th>\n",
              "      <th>distribution_channel</th>\n",
              "      <th>is_repeated_guest</th>\n",
              "      <th>previous_cancellations</th>\n",
              "      <th>previous_bookings_not_canceled</th>\n",
              "      <th>reserved_room_type</th>\n",
              "      <th>assigned_room_type</th>\n",
              "      <th>booking_changes</th>\n",
              "      <th>deposit_type</th>\n",
              "      <th>agent</th>\n",
              "      <th>days_in_waiting_list</th>\n",
              "      <th>customer_type</th>\n",
              "      <th>adr</th>\n",
              "      <th>required_car_parking_spaces</th>\n",
              "      <th>total_of_special_requests</th>\n",
              "      <th>reservation_status</th>\n",
              "      <th>reservation_status_date</th>\n",
              "    </tr>\n",
              "  </thead>\n",
              "  <tbody>\n",
              "    <tr>\n",
              "      <th>0</th>\n",
              "      <td>Resort Hotel</td>\n",
              "      <td>0</td>\n",
              "      <td>342</td>\n",
              "      <td>2015</td>\n",
              "      <td>July</td>\n",
              "      <td>27</td>\n",
              "      <td>1</td>\n",
              "      <td>0</td>\n",
              "      <td>0</td>\n",
              "      <td>2</td>\n",
              "      <td>0.0</td>\n",
              "      <td>0</td>\n",
              "      <td>BB</td>\n",
              "      <td>PRT</td>\n",
              "      <td>Direct</td>\n",
              "      <td>Direct</td>\n",
              "      <td>0</td>\n",
              "      <td>0</td>\n",
              "      <td>0</td>\n",
              "      <td>C</td>\n",
              "      <td>C</td>\n",
              "      <td>3</td>\n",
              "      <td>No Deposit</td>\n",
              "      <td>0.13864</td>\n",
              "      <td>0</td>\n",
              "      <td>Transient</td>\n",
              "      <td>0.0</td>\n",
              "      <td>0</td>\n",
              "      <td>0</td>\n",
              "      <td>Check-Out</td>\n",
              "      <td>2015-07-01</td>\n",
              "    </tr>\n",
              "  </tbody>\n",
              "</table>\n",
              "</div>"
            ],
            "text/plain": [
              "          hotel  is_canceled  ...  reservation_status  reservation_status_date\n",
              "0  Resort Hotel            0  ...           Check-Out               2015-07-01\n",
              "\n",
              "[1 rows x 31 columns]"
            ]
          },
          "metadata": {
            "tags": []
          },
          "execution_count": 21
        }
      ]
    },
    {
      "cell_type": "code",
      "metadata": {
        "id": "peUC8cdZieEP"
      },
      "source": [
        "# Replacing the missing values in the agent column with the the string unknown\n",
        "hotel_df.fillna(value = 'Unknown',inplace = True)"
      ],
      "execution_count": null,
      "outputs": []
    },
    {
      "cell_type": "code",
      "metadata": {
        "id": "fcTNEmMMjjFj",
        "colab": {
          "base_uri": "https://localhost:8080/",
          "height": 34
        },
        "outputId": "1a70bcaa-ca1f-4bee-9a15-c6d7e0bfeaa3"
      },
      "source": [
        "#checking if there are any missing values not taken care of\n",
        "hotel_df.isnull().values.any()"
      ],
      "execution_count": null,
      "outputs": [
        {
          "output_type": "execute_result",
          "data": {
            "text/plain": [
              "False"
            ]
          },
          "metadata": {
            "tags": []
          },
          "execution_count": 23
        }
      ]
    },
    {
      "cell_type": "code",
      "metadata": {
        "id": "wb6EK8IfsEzk"
      },
      "source": [
        "#we can see that there are no missing values left in our dataset\n",
        "#renaming our data frame\n",
        "hotel_clean = hotel_df"
      ],
      "execution_count": null,
      "outputs": []
    },
    {
      "cell_type": "markdown",
      "metadata": {
        "id": "0UPuW7nVk2If"
      },
      "source": [
        "# Answering Research Questions Raised"
      ]
    },
    {
      "cell_type": "markdown",
      "metadata": {
        "id": "DJsQJMQjlBt1"
      },
      "source": [
        "1. How many bookings were cancelled?"
      ]
    },
    {
      "cell_type": "code",
      "metadata": {
        "id": "M9zPKpJUlgsM",
        "colab": {
          "base_uri": "https://localhost:8080/",
          "height": 272
        },
        "outputId": "84a50471-ac13-4e71-a7b0-156f3b367d6f"
      },
      "source": [
        "#getting the number of cancelled bookings\n",
        "cancelled = hotel_clean[(hotel_clean['is_canceled'] == 1)].count()['hotel']\n",
        "#getting the number of bookings that were not cancelled\n",
        "not_cancelled = hotel_clean[(hotel_clean['is_canceled'] == 0)].count()['hotel']\n",
        "#creating a list of bookings cancelled and not cancelled\n",
        "value = [cancelled, not_cancelled]\n",
        "labels = ['Cancelled','Not Cancelled']\n",
        "#creating a pie chart to visualise our data\n",
        "plt.pie(x = value, labels = labels, autopct = '%1.1f%%', explode = [0,0], colors = ['red','green'])\n",
        "plt.title('Ratio of Cancelled and Not Cancelled bookings', pad = 14)\n",
        "plt.show()"
      ],
      "execution_count": null,
      "outputs": [
        {
          "output_type": "display_data",
          "data": {
            "image/png": "[encoded data removed]",
            "text/plain": [
              "<Figure size 432x288 with 1 Axes>"
            ]
          },
          "metadata": {
            "tags": []
          }
        }
      ]
    },
    {
      "cell_type": "markdown",
      "metadata": {
        "id": "XJoQG686WQde"
      },
      "source": [
        "**Observation:** majority of the bookings made were not cancelled."
      ]
    },
    {
      "cell_type": "markdown",
      "metadata": {
        "id": "3QddpNH5rI6A"
      },
      "source": [
        "2. What was the booking ratio between resort hotel and city hotel?"
      ]
    },
    {
      "cell_type": "code",
      "metadata": {
        "id": "fG8-403Srd1m",
        "colab": {
          "base_uri": "https://localhost:8080/",
          "height": 367
        },
        "outputId": "41afa56d-1f08-4b45-efa4-92a6afc081a9"
      },
      "source": [
        "#creating a pie chart to visualise the ratio\n",
        "hotel_clean.hotel.value_counts().plot(kind = 'pie', autopct = '%1.1f%%',figsize = [8,6], explode = [0.01,0])\n",
        "plt.title(\"Ratio of City to Resort hotel Bookings\", pad =0)\n",
        "plt.show()"
      ],
      "execution_count": null,
      "outputs": [
        {
          "output_type": "display_data",
          "data": {
            "image/png": "[encoded data removed]",
            "text/plain": [
              "<Figure size 576x432 with 1 Axes>"
            ]
          },
          "metadata": {
            "tags": []
          }
        }
      ]
    },
    {
      "cell_type": "markdown",
      "metadata": {
        "id": "KATr-22fW1r6"
      },
      "source": [
        "**Observation:** 61.1% of the bookings made were for the city hotel."
      ]
    },
    {
      "cell_type": "markdown",
      "metadata": {
        "id": "fnlU_DNRvb0_"
      },
      "source": [
        "3. What was the percentage of booking for each year?\n"
      ]
    },
    {
      "cell_type": "code",
      "metadata": {
        "id": "9BVEYrddvd1g",
        "colab": {
          "base_uri": "https://localhost:8080/",
          "height": 441
        },
        "outputId": "b5bb7922-e8d5-49dc-95b3-e519079610a9"
      },
      "source": [
        "print(hotel_clean.arrival_date_year.value_counts())\n",
        "hotel_clean.arrival_date_year.value_counts().plot(kind = 'pie', autopct ='%1.1f%%', figsize = [8,6], explode = (0.01,0,0))\n",
        "plt.title(\"Proportion of Bookings Per Year\")\n",
        "plt.show()"
      ],
      "execution_count": null,
      "outputs": [
        {
          "output_type": "stream",
          "text": [
            "2016    42391\n",
            "2017    31692\n",
            "2015    13313\n",
            "Name: arrival_date_year, dtype: int64\n"
          ],
          "name": "stdout"
        },
        {
          "output_type": "display_data",
          "data": {
            "image/png": "[encoded data removed]",
            "text/plain": [
              "<Figure size 576x432 with 1 Axes>"
            ]
          },
          "metadata": {
            "tags": []
          }
        }
      ]
    },
    {
      "cell_type": "markdown",
      "metadata": {
        "id": "p9gQDDVyXPU6"
      },
      "source": [
        "**Observation:** 2016 had the most bookings while 2015 had the least number of bookings."
      ]
    },
    {
      "cell_type": "markdown",
      "metadata": {
        "id": "qJVIGe53x9CK"
      },
      "source": [
        "4. Which was the most busy month for hotel?"
      ]
    },
    {
      "cell_type": "code",
      "metadata": {
        "id": "wLYd_BRQx-Mz",
        "colab": {
          "base_uri": "https://localhost:8080/",
          "height": 597
        },
        "outputId": "1041bd46-dac1-483e-e508-fca938f6528b"
      },
      "source": [
        "#creating an order of how we want our months to appear\n",
        "order = ['January','February','March','April','May','June','July','August','September','October','November','December']\n",
        "#getting the number of bookings not cancelled\n",
        "not_cancelled = hotel_clean[(hotel_clean['is_canceled'] == 0)]\n",
        "\n",
        "#plotting a bar graph to visualise the data\n",
        "not_cancelled.arrival_date_month.value_counts().reindex(order).plot(kind = 'bar', figsize = [8,8])\n",
        "plt.xlabel(\"Month\", labelpad = 14)\n",
        "plt.ylabel(\"Number of Bokings\", labelpad = 14)\n",
        "plt.title(\"Bookings per month\", y = 1.04)\n",
        "plt.show()"
      ],
      "execution_count": null,
      "outputs": [
        {
          "output_type": "display_data",
          "data": {
            "image/png": "[encoded data removed]",
            "text/plain": [
              "<Figure size 576x576 with 1 Axes>"
            ]
          },
          "metadata": {
            "tags": [],
            "needs_background": "light"
          }
        }
      ]
    },
    {
      "cell_type": "markdown",
      "metadata": {
        "id": "ug0IL8PlZIfW"
      },
      "source": [
        "**Observation:**August was the busiest month with December and January having the lowest number of guests."
      ]
    },
    {
      "cell_type": "markdown",
      "metadata": {
        "id": "d7UO80YN2XFb"
      },
      "source": [
        "5. Most guests came from which country?"
      ]
    },
    {
      "cell_type": "code",
      "metadata": {
        "id": "UBR2-ErM2ZTX",
        "colab": {
          "base_uri": "https://localhost:8080/",
          "height": 204
        },
        "outputId": "39b57240-c538-4217-e913-99a50f91a926"
      },
      "source": [
        "#grouping the bookings not cancelled by country of guest origin\n",
        "visits = not_cancelled.groupby('country').count()[['hotel']].reset_index()\n",
        "#diplaying our list in descending order and showing the first five records\n",
        "visits.sort_values(by = 'hotel', ascending = 0).head()\n"
      ],
      "execution_count": null,
      "outputs": [
        {
          "output_type": "execute_result",
          "data": {
            "text/html": [
              "<div>\n",
              "<style scoped>\n",
              "    .dataframe tbody tr th:only-of-type {\n",
              "        vertical-align: middle;\n",
              "    }\n",
              "\n",
              "    .dataframe tbody tr th {\n",
              "        vertical-align: top;\n",
              "    }\n",
              "\n",
              "    .dataframe thead th {\n",
              "        text-align: right;\n",
              "    }\n",
              "</style>\n",
              "<table border=\"1\" class=\"dataframe\">\n",
              "  <thead>\n",
              "    <tr style=\"text-align: right;\">\n",
              "      <th></th>\n",
              "      <th>country</th>\n",
              "      <th>hotel</th>\n",
              "    </tr>\n",
              "  </thead>\n",
              "  <tbody>\n",
              "    <tr>\n",
              "      <th>126</th>\n",
              "      <td>PRT</td>\n",
              "      <td>17662</td>\n",
              "    </tr>\n",
              "    <tr>\n",
              "      <th>58</th>\n",
              "      <td>GBR</td>\n",
              "      <td>8448</td>\n",
              "    </tr>\n",
              "    <tr>\n",
              "      <th>55</th>\n",
              "      <td>FRA</td>\n",
              "      <td>7104</td>\n",
              "    </tr>\n",
              "    <tr>\n",
              "      <th>51</th>\n",
              "      <td>ESP</td>\n",
              "      <td>5390</td>\n",
              "    </tr>\n",
              "    <tr>\n",
              "      <th>43</th>\n",
              "      <td>DEU</td>\n",
              "      <td>4334</td>\n",
              "    </tr>\n",
              "  </tbody>\n",
              "</table>\n",
              "</div>"
            ],
            "text/plain": [
              "    country  hotel\n",
              "126     PRT  17662\n",
              "58      GBR   8448\n",
              "55      FRA   7104\n",
              "51      ESP   5390\n",
              "43      DEU   4334"
            ]
          },
          "metadata": {
            "tags": []
          },
          "execution_count": 27
        }
      ]
    },
    {
      "cell_type": "markdown",
      "metadata": {
        "id": "Ww-oKlKbaPA0"
      },
      "source": [
        "**Observation:** Majority of the guests came from Portugal, then Britain, France, Spain and the Netherlands."
      ]
    },
    {
      "cell_type": "markdown",
      "metadata": {
        "id": "29jabtyk6I5W"
      },
      "source": [
        "6. How long do most people stay in hotels?"
      ]
    },
    {
      "cell_type": "code",
      "metadata": {
        "id": "b8FPrXmh4pox",
        "colab": {
          "base_uri": "https://localhost:8080/",
          "height": 423
        },
        "outputId": "57cc757f-6280-43d3-f862-2a76478c1a21"
      },
      "source": [
        "#Creating a column that shows the number total number of days spent by a guest\n",
        "not_cancelled['total_days'] = not_cancelled['stays_in_week_nights'] + not_cancelled['stays_in_weekend_nights']\n",
        "#getting the total number of days that guests spent at the hotel\n",
        "sns.barplot(y= not_cancelled['total_days'].mode() )\n",
        "plt.xlabel('Days', labelpad = 14)\n",
        "plt.title('Number of days spent')\n",
        "plt.show()"
      ],
      "execution_count": null,
      "outputs": [
        {
          "output_type": "stream",
          "text": [
            "/usr/local/lib/python3.6/dist-packages/ipykernel_launcher.py:2: SettingWithCopyWarning: \n",
            "A value is trying to be set on a copy of a slice from a DataFrame.\n",
            "Try using .loc[row_indexer,col_indexer] = value instead\n",
            "\n",
            "See the caveats in the documentation: https://pandas.pydata.org/pandas-docs/stable/user_guide/indexing.html#returning-a-view-versus-a-copy\n",
            "  \n"
          ],
          "name": "stderr"
        },
        {
          "output_type": "display_data",
          "data": {
            "image/png": "[encoded data removed]",
            "text/plain": [
              "<Figure size 432x288 with 1 Axes>"
            ]
          },
          "metadata": {
            "tags": [],
            "needs_background": "light"
          }
        }
      ]
    },
    {
      "cell_type": "markdown",
      "metadata": {
        "id": "rjrh40CMbYNd"
      },
      "source": [
        "**Observation:**Most guests spent a total of one day at the hotel"
      ]
    },
    {
      "cell_type": "markdown",
      "metadata": {
        "id": "QUJvQNGhbibH"
      },
      "source": [
        "7. Which was the most booked accommodation type (Single, Couple, Family)?"
      ]
    },
    {
      "cell_type": "code",
      "metadata": {
        "id": "Q31rchOvbwJg",
        "colab": {
          "base_uri": "https://localhost:8080/",
          "height": 285
        },
        "outputId": "ac82ec75-e660-4da1-93e0-8eff53666229"
      },
      "source": [
        "#getting the number of singles\n",
        "\n",
        "singles = not_cancelled[(not_cancelled.adults == 1) & (not_cancelled.babies == 0) & (not_cancelled.children == 0)].count()['hotel']\n",
        "\n",
        "#getting the total number of couples that visited the hotels\n",
        "couples = not_cancelled[(not_cancelled.adults == 2) & (not_cancelled.babies == 0) & (not_cancelled.children == 0)].count()['hotel']\n",
        "#getting the number of families that visited the hotels\n",
        "Family = not_cancelled.count()['hotel'] - singles - couples\n",
        "#creating a bar plot to visualise the numbers obtained\n",
        "label = ['Single', 'Couple', 'Family']\n",
        "value = [singles, couples, Family]\n",
        "sns.barplot(x= label, y=value, )"
      ],
      "execution_count": null,
      "outputs": [
        {
          "output_type": "execute_result",
          "data": {
            "text/plain": [
              "<matplotlib.axes._subplots.AxesSubplot at 0x7f7de6abf828>"
            ]
          },
          "metadata": {
            "tags": []
          },
          "execution_count": 30
        },
        {
          "output_type": "display_data",
          "data": {
            "image/png": "[encoded data removed]",
            "text/plain": [
              "<Figure size 432x288 with 1 Axes>"
            ]
          },
          "metadata": {
            "tags": [],
            "needs_background": "light"
          }
        }
      ]
    },
    {
      "cell_type": "markdown",
      "metadata": {
        "id": "XYy4RHrFcs0d"
      },
      "source": [
        "**Observation:** Majority of the gusts at the hotels were couples."
      ]
    },
    {
      "cell_type": "code",
      "metadata": {
        "id": "N27PpCN2c1a5"
      },
      "source": [
        ""
      ],
      "execution_count": null,
      "outputs": []
    },
    {
      "cell_type": "markdown",
      "metadata": {
        "id": "2Y3xZ0N1dQFG"
      },
      "source": [
        "# Recommendations"
      ]
    },
    {
      "cell_type": "markdown",
      "metadata": {
        "id": "AnDZbKyJdVCp"
      },
      "source": [
        "From our analysis, we provide the following recommendations\n",
        "1. Since majority of the bookings are for the city hotel, the management should consider providing cheaper rates or special offers for guests at the city hotel inorder to raise the revenue for the company.\n",
        "2. Most guests at the hotel were received during the months of July and August. This means most people tend to travel more during this period. The management should consider raising the booking rates during this two months to capitalise on the increased demand in hotel rooms during this period.\n",
        "3. The least busy months are December and January. The management should consider running promotional offers and discounted hotel rates during this period to improve hotel occupancy.\n",
        "4. Due to the high number of guests travelling from portugal, Great Britain and France, the management should consider running a promotional rates for guests travelling from these countries.\n",
        "5. Since most guest travel as couples, the management should consider increasing the number of hotel rooms with two bed occupancy to take advantage of the large couple guest market."
      ]
    },
    {
      "cell_type": "code",
      "metadata": {
        "id": "NM_Hg1Y0g_4s"
      },
      "source": [
        ""
      ],
      "execution_count": null,
      "outputs": []
    },
    {
      "cell_type": "markdown",
      "metadata": {
        "id": "nUZdhIgthYPw"
      },
      "source": [
        "# Challenging your solution"
      ]
    },
    {
      "cell_type": "markdown",
      "metadata": {
        "id": "JgpaZb2fhtfQ"
      },
      "source": [
        "1. On which days of the month do most guests check in at the hotels?\n"
      ]
    },
    {
      "cell_type": "code",
      "metadata": {
        "id": "aj4kd1dph2bx",
        "colab": {
          "base_uri": "https://localhost:8080/",
          "height": 655
        },
        "outputId": "2bbd0198-8559-4db4-85ea-f3c155aabe02"
      },
      "source": [
        "#creating a list of how we want our data ordered.\n",
        "new_order = [1,2,3,4,5,6,7,8,9,10,11,12,13,14,15,16,17,18,19,20,21,22,23,24,25,26,27,28,29,30,31]\n",
        "#plotting a bargraph to visualise our data\n",
        "not_cancelled.arrival_date_day_of_month.value_counts().reindex(new_order).plot(kind = 'bar', figsize = [10,10])\n",
        "plt.title(\"Number of guests arriving on various days of the month\", pad = 20)\n",
        "plt.xlabel(\"Day of the month\", labelpad = 14)\n",
        "plt.ylabel(\"Total Number of Guests\", labelpad = 14)\n",
        "plt.show()\n"
      ],
      "execution_count": null,
      "outputs": [
        {
          "output_type": "display_data",
          "data": {
            "image/png": "[encoded data removed]",
            "text/plain": [
              "<Figure size 720x720 with 1 Axes>"
            ]
          },
          "metadata": {
            "tags": [],
            "needs_background": "light"
          }
        }
      ]
    },
    {
      "cell_type": "markdown",
      "metadata": {
        "id": "rjlo43-1kyg1"
      },
      "source": [
        "**Observation:**The number of arrivals is consistent in all days."
      ]
    },
    {
      "cell_type": "code",
      "metadata": {
        "id": "GFRIC5C_kzig"
      },
      "source": [
        ""
      ],
      "execution_count": null,
      "outputs": []
    },
    {
      "cell_type": "markdown",
      "metadata": {
        "id": "RWC_r_r3lM8n"
      },
      "source": [
        "2. Which meal is taken by most guests at the hotel"
      ]
    },
    {
      "cell_type": "code",
      "metadata": {
        "id": "TF7GMEb7lUdk",
        "colab": {
          "base_uri": "https://localhost:8080/",
          "height": 583
        },
        "outputId": "d3753977-bda0-46bb-aa97-0aa8d63ad551"
      },
      "source": [
        "#plotting a bar graph to visualise this\n",
        "not_cancelled.meal.value_counts().plot(kind='bar',figsize = [8,8])\n",
        "plt.xlabel('Type of meal',labelpad = 14)\n",
        "plt.ylabel('Total number served', labelpad = 14)\n",
        "plt.title(\"Grpah showng total number of meals served to Guests\", pad = 14)\n",
        "plt.show()"
      ],
      "execution_count": null,
      "outputs": [
        {
          "output_type": "display_data",
          "data": {
            "image/png": "[encoded data removed]",
            "text/plain": [
              "<Figure size 576x576 with 1 Axes>"
            ]
          },
          "metadata": {
            "tags": [],
            "needs_background": "light"
          }
        }
      ]
    },
    {
      "cell_type": "markdown",
      "metadata": {
        "id": "VVvb_hQqnHqz"
      },
      "source": [
        "**Observation:**The most consumed meal by guests is the bed and breakfast meal."
      ]
    },
    {
      "cell_type": "markdown",
      "metadata": {
        "id": "L2UNdXYdnSJP"
      },
      "source": [
        "3. Are most of the guests at the hotel first time or repeat guests?\n"
      ]
    },
    {
      "cell_type": "code",
      "metadata": {
        "id": "5fQv2qBlnoGy",
        "colab": {
          "base_uri": "https://localhost:8080/",
          "height": 293
        },
        "outputId": "5de08f86-35a5-43fa-e73d-578a0f6062de"
      },
      "source": [
        "#getting the number of repeat and first time guest.\n",
        "repeat = not_cancelled[(not_cancelled.is_repeated_guest == 1)].count()['hotel']\n",
        "not_repeat = not_cancelled[(not_cancelled.is_repeated_guest == 0)].count()['hotel']\n",
        "value = [repeat, not_repeat]\n",
        "label = ['Repeat', 'First_Time']\n",
        "#plotting a bargraph to visualise the information\n",
        "sns.barplot(x=label, y = value)\n",
        "plt.title(\"Graph showing number of repeat and first time guests\", pad = 14)\n",
        "plt.show()\n"
      ],
      "execution_count": null,
      "outputs": [
        {
          "output_type": "display_data",
          "data": {
            "image/png": "[encoded data removed]",
            "text/plain": [
              "<Figure size 432x288 with 1 Axes>"
            ]
          },
          "metadata": {
            "tags": [],
            "needs_background": "light"
          }
        }
      ]
    },
    {
      "cell_type": "markdown",
      "metadata": {
        "id": "8po5QKBtsOkR"
      },
      "source": [
        "**Observation:**Most of the guests at the hotels are first time guests"
      ]
    },
    {
      "cell_type": "markdown",
      "metadata": {
        "id": "WAinKzqDs-d4"
      },
      "source": [
        "**Our Observation**\n",
        "1. Most guests are first time guests with few being repeat guests. Management should improve the customer experience at the hotel to encourage the return of guests thus increasing hotel revenue.\n",
        "2. Most guests take the BB meal package. There should be a special offer for the other meals to encourage their consumption.\n"
      ]
    },
    {
      "cell_type": "code",
      "metadata": {
        "id": "qfGKq_jctzMc"
      },
      "source": [
        ""
      ],
      "execution_count": null,
      "outputs": []
    },
    {
      "cell_type": "markdown",
      "metadata": {
        "id": "BoTbYUYVuCOB"
      },
      "source": [
        "# Follow Up Questions"
      ]
    },
    {
      "cell_type": "markdown",
      "metadata": {
        "id": "ESS8GiP-uI51"
      },
      "source": [
        "1. **Did we have the right data?** yes.The right data was available.\n",
        "\n",
        "2. **Did we need other data to answer our question?**No. The data we had was sufficient to answer the research questions.\n",
        "\n",
        "3. **Did we have the right questions?** Yes. the right questions were asked in providing a solution to our research dilemma.\n",
        "                              "
      ]
    }
  ]
}